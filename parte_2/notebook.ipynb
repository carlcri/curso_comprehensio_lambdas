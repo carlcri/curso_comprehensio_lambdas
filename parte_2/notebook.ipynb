{
 "cells": [
  {
   "cell_type": "markdown",
   "metadata": {},
   "source": [
    "# Los errores del codigo\n",
    "\n",
    "https://docs.python.org/3/tutorial/errors.html\n",
    "\n",
    "https://docs.python.org/3/tutorial/errors.html"
   ]
  },
  {
   "cell_type": "markdown",
   "metadata": {},
   "source": [
    "![Errores](errores.JPG)"
   ]
  },
  {
   "cell_type": "markdown",
   "metadata": {},
   "source": [
    "Cuando PYTHON nos avisa que hay un error, nos devuelve un \"traceback\". Notaras dos categorias de errores cuando Python nos avisa. \n",
    "\n",
    "- Syntax errores: si detecta un error de escritura, o un TIPO, no corre el codigo\n",
    "    - - keybord interrupt: escribimos far en lugar de for\n",
    "    - - keyERROR: en diccionarios\n",
    "    - - IndexError: en listas\n",
    "\n",
    "- Exceptions: python ejecuta el programa, y en la linea especifica detiene el programa porque rompe la logica\n",
    "    - - ZeroDivisionError\n",
    "    - - ImportError: cuando se intenta importar un modulo\n",
    "\n",
    "*Como programador lee los tracebacks de atras hacia adelante*:\n",
    "\n",
    "    Traceback (most recent call last):\n",
    "    File \"<stdin>\", line 1, in <module>\n",
    "    ZeroDivisionError: division by zero\n",
    "\n",
    "¿Que significa (most recent call last)? \"la llamada mas reciente esta al final\"\n",
    "Importante el concepto elevar\n",
    "\n"
   ]
  },
  {
   "cell_type": "markdown",
   "metadata": {},
   "source": [
    "# Errores de logica, debugging"
   ]
  }
 ],
 "metadata": {
  "language_info": {
   "name": "python"
  },
  "orig_nbformat": 4
 },
 "nbformat": 4,
 "nbformat_minor": 2
}
