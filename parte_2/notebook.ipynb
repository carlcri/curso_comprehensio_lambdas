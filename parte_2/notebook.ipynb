{
 "cells": [
  {
   "cell_type": "markdown",
   "metadata": {},
   "source": [
    "# Los errores del codigo\n",
    "\n",
    "https://docs.python.org/3/tutorial/errors.html\n",
    "\n",
    "https://docs.python.org/3/tutorial/errors.html"
   ]
  },
  {
   "cell_type": "markdown",
   "metadata": {},
   "source": [
    "![Errores](errores.JPG)"
   ]
  },
  {
   "cell_type": "markdown",
   "metadata": {},
   "source": [
    "Cuando PYTHON nos avisa que hay un error, nos devuelve un \"traceback\". Notaras dos categorias de errores cuando Python nos avisa. \n",
    "\n",
    "- Syntax errores: si detecta un error de escritura, o un TIPO, no corre el codigo\n",
    "    - - keybord interrupt: escribimos far en lugar de for\n",
    "    - - keyERROR: en diccionarios\n",
    "    - - IndexError: en listas\n",
    "\n",
    "- Exceptions: python ejecuta el programa, y en la linea especifica detiene el programa porque rompe la logica\n",
    "    - - ZeroDivisionError\n",
    "    - - ImportError: cuando se intenta importar un modulo\n",
    "\n",
    "*Como programador lee los tracebacks de atras hacia adelante*:\n",
    "\n",
    "    Traceback (most recent call last):\n",
    "    File \"<stdin>\", line 1, in <module>\n",
    "    ZeroDivisionError: division by zero\n",
    "\n",
    "¿Que significa (most recent call last)? \"la llamada mas reciente esta al final\"\n",
    "Importante el concepto elevar\n",
    "\n"
   ]
  },
  {
   "cell_type": "markdown",
   "metadata": {},
   "source": [
    "# Errores de logica, debugging\n",
    "\n",
    "## Aprendiendo a manejar PDB\n",
    "\n",
    "Aunque en el modulo se aprendio hacer debbuging con las herramientas incorporadas en *Visual Studio Code*, cabe resaltar que Python tiene su propia libreria para el debbugind, esta libreria se llama *pdb*. Lo primero es importar el modulo tal cual:"
   ]
  },
  {
   "cell_type": "code",
   "execution_count": 5,
   "metadata": {},
   "outputs": [
    {
     "name": "stdout",
     "output_type": "stream",
     "text": [
      "--Return--\n",
      "None\n",
      "> \u001b[0;32m/tmp/ipykernel_578/485563516.py\u001b[0m(1)\u001b[0;36m<module>\u001b[0;34m()\u001b[0m\n",
      "\u001b[0;32m----> 1 \u001b[0;31m\u001b[0;32mimport\u001b[0m \u001b[0mpdb\u001b[0m\u001b[0;34m;\u001b[0m \u001b[0mpdb\u001b[0m\u001b[0;34m.\u001b[0m\u001b[0mset_trace\u001b[0m\u001b[0;34m(\u001b[0m\u001b[0;34m)\u001b[0m\u001b[0;34m\u001b[0m\u001b[0;34m\u001b[0m\u001b[0m\n",
      "\u001b[0m\u001b[0;32m      2 \u001b[0;31m\u001b[0;34m\u001b[0m\u001b[0m\n",
      "\u001b[0m\u001b[0;32m      3 \u001b[0;31m\u001b[0mprint\u001b[0m\u001b[0;34m(\u001b[0m\u001b[0;34m'Hello'\u001b[0m\u001b[0;34m)\u001b[0m\u001b[0;34m\u001b[0m\u001b[0;34m\u001b[0m\u001b[0m\n",
      "\u001b[0m\n",
      "--KeyboardInterrupt--\n",
      "\n",
      "KeyboardInterrupt: Interrupted by user\n",
      "Hello\n"
     ]
    }
   ],
   "source": [
    "import pdb; pdb.set_trace()"
   ]
  },
  {
   "cell_type": "markdown",
   "metadata": {},
   "source": [
    "Los diseñadores de Python crearon pdb, una librería nativa cuyo único propósito es permitir a los desarrolladores inspeccionar la ejecución de sus programas de una forma fácil y rápida.\n",
    "\n",
    "**Comandos mas importantes**\n",
    "\n",
    "    continue\n",
    "\n",
    "    next : avanzar una linea de codigo\n",
    "\n",
    "    break [numero de la linea de codigo donde queremos que se detenga el programa]\n",
    "\n",
    "    clear : borrar todos los breaks que hallamos creado con el comando anterior\n",
    "\n",
    "    clear [numero del breakpoint a borrar]\n",
    "    \n",
    "    p [nombre de la variable a inspeccionar]\n",
    "\n",
    "    step: Para que pdb pueda inspeccionar el código dentro de una funcion\n",
    "\n",
    "Si quieres ver el script donde se estan realizando las respectivas pruebas con esta libreria, ve a:\n",
    "\n",
    "    /home/carlos/pro_git_github/pdb_learning.py\n",
    "\n",
    "Fuentes: \n",
    "https://rukbottoland.com/blog/como-utilizar-pdb-el-debugger-de-python/\n",
    "https://realpython.com/python-debugging-pdb/"
   ]
  },
  {
   "cell_type": "markdown",
   "metadata": {},
   "source": [
    "## Aprendiendo a utilizar las herramientas de debugging de Visual Studio Code.\n",
    "\n",
    "En la parte lateral izquierda, hay un icono como una flechita, como con un bug, *y ese icono es el de debugging*.\n",
    "Y continuacion escribir *python* y seleccionar *python file*\n"
   ]
  },
  {
   "cell_type": "markdown",
   "metadata": {},
   "source": [
    "# manejo de excepciones: cuando Python si nos avisa de algun error"
   ]
  },
  {
   "cell_type": "markdown",
   "metadata": {},
   "source": [
    "Con el siguiente codigo estamos garantizando que splo se ingresen datos de tipo *string*. No obstante este codigo no resuleveel problema cuando ingresamos una cadena vacia: ' '. "
   ]
  },
  {
   "cell_type": "code",
   "execution_count": 51,
   "metadata": {},
   "outputs": [
    {
     "name": "stdout",
     "output_type": "stream",
     "text": [
      "la palabra:    \n",
      "True\n",
      "3\n"
     ]
    }
   ],
   "source": [
    "import random\n",
    "\n",
    "def main():\n",
    "    word = ['anitalavalatina', 'burro', 24, 'oso', 313, ' ',, '  ', '   ']\n",
    "    word = random.choice(word)\n",
    "    print(f'la palabra: {word}')\n",
    "\n",
    "    try:\n",
    "        print((lambda cadena: cadena == cadena[::-1])(word))\n",
    "        print(len(word))\n",
    "    except TypeError:\n",
    "        print(' ERROR solo se pueden ingresar caracteres')\n",
    "\n",
    "\n",
    "if __name__=='__main__':\n",
    "    main()"
   ]
  },
  {
   "cell_type": "markdown",
   "metadata": {},
   "source": [
    "Con este ejemplo se ilustra como disparar un 'ValueError' cuando el usuario ingresa una cadena vacia. No obsttante algo que ni el mismo instructor predijo es si un usuario ingresa dos o mas espacios vacios. Sin emabargo para efectos del curso, note la definicion de la funcion palindrome(), y el raise ValueError"
   ]
  },
  {
   "cell_type": "code",
   "execution_count": 65,
   "metadata": {},
   "outputs": [
    {
     "name": "stdout",
     "output_type": "stream",
     "text": [
      "la palabra: burro\n",
      "False\n",
      "5\n"
     ]
    }
   ],
   "source": [
    "import random\n",
    "\n",
    "def palindrome(cadena):\n",
    "    try: \n",
    "        if len(cadena)==0:\n",
    "            raise ValueError('No se debe ingresar una cadena vacia')\n",
    "        return (lambda cadena: cadena == cadena[::-1])(cadena)\n",
    "    except ValueError as ve:\n",
    "        print(ve)\n",
    "        return False     \n",
    "\n",
    "\n",
    "def main():\n",
    "    word = ['anitalavalatina', 'burro', 24, 'oso', 313, ' ', '  ', '   ','']\n",
    "#    word = ['']\n",
    "    word = random.choice(word)\n",
    "    print(f'la palabra: {word}')\n",
    "\n",
    "    try:\n",
    "        print(palindrome(word))\n",
    "        print(len(word))\n",
    "    except TypeError:\n",
    "        print(' ERROR solo se pueden ingresar caracteres')\n",
    "\n",
    "\n",
    "if __name__=='__main__':\n",
    "    main()\n"
   ]
  },
  {
   "cell_type": "markdown",
   "metadata": {},
   "source": [
    "Tener en cunenta que la palabra reservada *finally* es usada para cosas muy especificas como: \n",
    "\n",
    "    - cerrar una conexeion a una base de datos\n",
    "    - cerrar un archivo\n",
    "\n",
    "Es una buena practica para evitar danar el archivo o la BD.\n"
   ]
  },
  {
   "cell_type": "markdown",
   "metadata": {},
   "source": [
    "# Reto\n",
    "\n",
    "Modificar el programa que obtinen los divisores de un numero para que solo acepte numeros positivos.\n",
    "\n",
    "primero modifico la funcion new_func para que tambien escoga numeros negativos.\n",
    "\n",
    "Se resuelve en 2debbuging.py\n",
    "\n",
    "**Pon atencion**:\n",
    "\n",
    "En la funcion new_func() verifico si la entrada no es un numero, y termina el programa. Y en la funcion divisors() verifico si es negativo, y termina el programa"
   ]
  },
  {
   "cell_type": "code",
   "execution_count": null,
   "metadata": {},
   "outputs": [],
   "source": [
    "import random\n",
    "\n",
    "\n",
    "def divisors(number):\n",
    "    try:\n",
    "        if number < 0:\n",
    "            raise ValueError('el numero es negativo zoquete')\n",
    "        divisors = [i for i in range(1,number+1) if number%i == 0]\n",
    "        return divisors\n",
    "    except ValueError as va:\n",
    "        print(va)\n",
    "        exit()\n",
    "   \n",
    "    \n",
    "def run():\n",
    "\n",
    "    numbers = [i for i in range(100)]\n",
    "\n",
    "    number = new_func(numbers)\n",
    "\n",
    "    my_divisors = divisors(number)\n",
    "\n",
    "    print(f'The divisors of {number} are {my_divisors}')\n",
    "    print('El programa ha terminado')\n",
    "\n",
    "#Funcion de ingreso de datos aleatorios o de usuario\n",
    "def new_func(numbers):\n",
    "    pizza = list('pizza es la mejor comida del mundo y de toda Italia, Espana, y Belgica')\n",
    "    sign = [-1, 1]\n",
    "    sign = random.choice(sign)\n",
    "\n",
    "    numbers = numbers + pizza\n",
    "    number = random.choice(numbers)\n",
    "\n",
    "    try:\n",
    "        if isinstance(number,int):\n",
    "            return number*sign\n",
    "        else:\n",
    "            raise TypeError('solo se pueden ingresar numeros gran cabron')   \n",
    "    except TypeError as ve:\n",
    "        print(ve)\n",
    "        exit()          \n",
    "\n",
    " \n",
    "if __name__ == '__main__':\n",
    "    run()"
   ]
  },
  {
   "cell_type": "markdown",
   "metadata": {},
   "source": [
    "vuelvo y modifico la funcion para que tambien genere letras y genere un error. "
   ]
  }
 ],
 "metadata": {
  "interpreter": {
   "hash": "31f2aee4e71d21fbe5cf8b01ff0e069b9275f58929596ceb00d14d90e3e16cd6"
  },
  "kernelspec": {
   "display_name": "Python 3.8.10 64-bit",
   "language": "python",
   "name": "python3"
  },
  "language_info": {
   "codemirror_mode": {
    "name": "ipython",
    "version": 3
   },
   "file_extension": ".py",
   "mimetype": "text/x-python",
   "name": "python",
   "nbconvert_exporter": "python",
   "pygments_lexer": "ipython3",
   "version": "3.8.10"
  },
  "orig_nbformat": 4
 },
 "nbformat": 4,
 "nbformat_minor": 2
}
