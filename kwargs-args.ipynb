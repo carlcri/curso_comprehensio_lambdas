{
 "cells": [
  {
   "attachments": {},
   "cell_type": "markdown",
   "metadata": {},
   "source": [
    "# Arguments\n",
    "\n",
    "## Positional Arguments\n",
    "\n",
    "Why positional? Because the order of the arguments matters. Let's ilustrate with a function:"
   ]
  },
  {
   "cell_type": "code",
   "execution_count": 10,
   "metadata": {},
   "outputs": [
    {
     "name": "stdout",
     "output_type": "stream",
     "text": [
      "my income is 500, and my 430, then my net income is 70 \n"
     ]
    }
   ],
   "source": [
    "def net_income(income, expenses):\n",
    "    return income - expenses\n",
    "\n",
    "income = 500\n",
    "expenses = 430\n",
    "\n",
    "print(f'my income is {income}, and my {expenses}, then my net income is {net_income(income,expenses)} ')\n"
   ]
  },
  {
   "attachments": {},
   "cell_type": "markdown",
   "metadata": {},
   "source": [
    "Where *income* and *expenses* are positional arguments. Suppose I mess up the orden, then I will not make any sense: 😱"
   ]
  },
  {
   "cell_type": "code",
   "execution_count": 11,
   "metadata": {},
   "outputs": [
    {
     "name": "stdout",
     "output_type": "stream",
     "text": [
      "my income is 500, and my 430, then my net income is -70 \n"
     ]
    }
   ],
   "source": [
    "print(f'my income is {income}, and my {expenses}, then my net income is {net_income(expenses,income)} ')"
   ]
  },
  {
   "attachments": {},
   "cell_type": "markdown",
   "metadata": {},
   "source": [
    "# Entendiendo args y kwargs"
   ]
  },
  {
   "attachments": {},
   "cell_type": "markdown",
   "metadata": {},
   "source": [
    "## Unpacking operator\n",
    "\n",
    "Es un asterisco(*)"
   ]
  },
  {
   "attachments": {},
   "cell_type": "markdown",
   "metadata": {},
   "source": [
    "## args\n",
    "\n",
    "*args: allows you to pass multiple non-key arguments\n",
    "\n",
    "Suponga necesitamos una funcion que sume dos numeros, donde a y b son los argumentos de la funcion:"
   ]
  },
  {
   "cell_type": "code",
   "execution_count": 13,
   "metadata": {},
   "outputs": [
    {
     "data": {
      "text/plain": [
       "9"
      ]
     },
     "execution_count": 13,
     "metadata": {},
     "output_type": "execute_result"
    }
   ],
   "source": [
    "def add(a,b):\n",
    "    return a+b\n",
    "\n",
    "add(4,5)"
   ]
  },
  {
   "attachments": {},
   "cell_type": "markdown",
   "metadata": {},
   "source": [
    "Si ahora necesitamos una funcion que sume por ejemplo tres numeros, pues ahora no podemos usar la funcion anterior:"
   ]
  },
  {
   "cell_type": "code",
   "execution_count": 14,
   "metadata": {},
   "outputs": [
    {
     "ename": "TypeError",
     "evalue": "add() takes 2 positional arguments but 3 were given",
     "output_type": "error",
     "traceback": [
      "\u001b[0;31m---------------------------------------------------------------------------\u001b[0m",
      "\u001b[0;31mTypeError\u001b[0m                                 Traceback (most recent call last)",
      "Cell \u001b[0;32mIn[14], line 1\u001b[0m\n\u001b[0;32m----> 1\u001b[0m add(\u001b[39m3\u001b[39;49m,\u001b[39m4\u001b[39;49m,\u001b[39m1\u001b[39;49m)\n",
      "\u001b[0;31mTypeError\u001b[0m: add() takes 2 positional arguments but 3 were given"
     ]
    }
   ],
   "source": [
    "add(3,4,1)"
   ]
  },
  {
   "attachments": {},
   "cell_type": "markdown",
   "metadata": {},
   "source": [
    "Entonces volveremos a definir la funcion, remplazando los argumentos posicionales con, *args, que quiere decir argumentos"
   ]
  },
  {
   "cell_type": "code",
   "execution_count": 16,
   "metadata": {},
   "outputs": [
    {
     "name": "stdout",
     "output_type": "stream",
     "text": [
      "<class 'tuple'>\n"
     ]
    },
    {
     "data": {
      "text/plain": [
       "9"
      ]
     },
     "execution_count": 16,
     "metadata": {},
     "output_type": "execute_result"
    }
   ],
   "source": [
    "def add(*args):\n",
    "    total = 0\n",
    "    print(type(args))\n",
    "    for arg in args:\n",
    "        total += arg\n",
    "\n",
    "    return total\n",
    "\n",
    "add(4,5,4, -4)"
   ]
  },
  {
   "attachments": {},
   "cell_type": "markdown",
   "metadata": {},
   "source": [
    "Importante aclarar que *args* es una tupla. Asi que cuando usamos el *unpacking operator* junto con los argumentos que le pasemos, los empacara en una tupla."
   ]
  },
  {
   "attachments": {},
   "cell_type": "markdown",
   "metadata": {},
   "source": [
    "#### Ejemplo\n",
    "\n",
    "Crear una funcion que muestre el nombre de una persona. En parametro end en la funcion print remplaza el salto de linea con un caracter de nuestra escogencia"
   ]
  },
  {
   "cell_type": "code",
   "execution_count": 22,
   "metadata": {},
   "outputs": [],
   "source": [
    "def display_name(*args):\n",
    "    for arg in args:\n",
    "        print(arg, end=\" \")"
   ]
  },
  {
   "cell_type": "code",
   "execution_count": 24,
   "metadata": {},
   "outputs": [
    {
     "name": "stdout",
     "output_type": "stream",
     "text": [
      "Sponge Bob "
     ]
    }
   ],
   "source": [
    "display_name('SpongeBob')"
   ]
  },
  {
   "cell_type": "code",
   "execution_count": 26,
   "metadata": {},
   "outputs": [
    {
     "name": "stdout",
     "output_type": "stream",
     "text": [
      "Dr. SpongeBob Square Pants "
     ]
    }
   ],
   "source": [
    "display_name('Dr.','SpongeBob', 'Square', 'Pants')"
   ]
  },
  {
   "attachments": {},
   "cell_type": "markdown",
   "metadata": {},
   "source": [
    "## **kwargs\n",
    "\n",
    "allows to pass multiple keyword arguments, es decir tiene que ver con diccionarios. \n",
    "\n",
    "Crearemos una funcion para imprimir la direccion:"
   ]
  },
  {
   "cell_type": "code",
   "execution_count": 30,
   "metadata": {},
   "outputs": [
    {
     "name": "stdout",
     "output_type": "stream",
     "text": [
      "<class 'dict'>\n"
     ]
    }
   ],
   "source": [
    "def print_address(**kwargs):\n",
    "    print(type(kwargs))\n",
    "\n",
    "print_address(street = '43 Fake Street',\n",
    "              city = 'BOG',\n",
    "              country = 'COL',\n",
    "              zip = 'A523G')"
   ]
  },
  {
   "attachments": {},
   "cell_type": "markdown",
   "metadata": {},
   "source": [
    "Cuando les pasemos los argumentos anteriores, vemos se han empacada en un diccionario. Y podremos iterar sobre keys, values, etc"
   ]
  },
  {
   "cell_type": "code",
   "execution_count": 34,
   "metadata": {},
   "outputs": [
    {
     "name": "stdout",
     "output_type": "stream",
     "text": [
      "street: 43 Fake Street\n",
      "city: BOG\n",
      "country: COL\n",
      "zip: A523G\n"
     ]
    }
   ],
   "source": [
    "def print_address(**kwargs):\n",
    "    for key, value in kwargs.items():\n",
    "        print(f'{key}: {value}')\n",
    "\n",
    "print_address(street = '43 Fake Street',\n",
    "              city = 'BOG',\n",
    "              country = 'COL',\n",
    "              zip = 'A523G')"
   ]
  },
  {
   "attachments": {},
   "cell_type": "markdown",
   "metadata": {},
   "source": [
    "¿que tal si añadimos otro argumento sin modificar la funcion? 😊"
   ]
  },
  {
   "cell_type": "code",
   "execution_count": 35,
   "metadata": {},
   "outputs": [
    {
     "name": "stdout",
     "output_type": "stream",
     "text": [
      "street: 43 Fake Street\n",
      "apartment: 5-701\n",
      "city: BOG\n",
      "country: COL\n",
      "zip: A523G\n"
     ]
    }
   ],
   "source": [
    "print_address(street = '43 Fake Street',\n",
    "              apartment = '5-701',  \n",
    "              city = 'BOG',\n",
    "              country = 'COL',\n",
    "              zip = 'A523G')"
   ]
  },
  {
   "attachments": {},
   "cell_type": "markdown",
   "metadata": {},
   "source": [
    "## Mexclando **kwargs con *args\n",
    "\n",
    "Mediante un ejecico que imprima el Shipping label"
   ]
  },
  {
   "cell_type": "code",
   "execution_count": 48,
   "metadata": {},
   "outputs": [],
   "source": [
    "def shipping_label(*args, **kwargs):\n",
    "    for arg in args:\n",
    "        print(arg, end=\" \")  \n",
    "    print()\n",
    "\n",
    "    for key, value in kwargs.items():\n",
    "        print(f'{key}: {value}')"
   ]
  },
  {
   "cell_type": "code",
   "execution_count": 50,
   "metadata": {},
   "outputs": [
    {
     "name": "stdout",
     "output_type": "stream",
     "text": [
      "Dr. SpongeBob Square Pants \n",
      "street: 43 Fake Street\n",
      "apartment: 5-701\n",
      "city: BOG\n",
      "country: COL\n",
      "zip: A523G\n"
     ]
    }
   ],
   "source": [
    "shipping_label('Dr.','SpongeBob', 'Square', 'Pants',\n",
    "                street = '43 Fake Street',\n",
    "                apartment = '5-701',  \n",
    "                city = 'BOG',\n",
    "                country = 'COL',\n",
    "                zip = 'A523G')"
   ]
  },
  {
   "attachments": {},
   "cell_type": "markdown",
   "metadata": {},
   "source": [
    "Modificar el codigo anterior para imprimir el street y apartment en una linea, y el resto en otra"
   ]
  },
  {
   "cell_type": "code",
   "execution_count": 60,
   "metadata": {},
   "outputs": [],
   "source": [
    "def shipping_label(*args, **kwargs):\n",
    "    for arg in args:\n",
    "        print(arg, end=\" \") \n",
    "    print()\n",
    "\n",
    "    print(f'{kwargs.get(\"apartment\")} {kwargs.get(\"street\")}')\n",
    "    print(f'{kwargs.get(\"city\")} {kwargs.get(\"country\")} {kwargs.get(\"zip\")}')"
   ]
  },
  {
   "cell_type": "code",
   "execution_count": 61,
   "metadata": {},
   "outputs": [
    {
     "name": "stdout",
     "output_type": "stream",
     "text": [
      "Dr. SpongeBob Square Pants \n",
      "5-701 43 Fake Street\n",
      "BOG COL A523G\n"
     ]
    }
   ],
   "source": [
    "shipping_label('Dr.','SpongeBob', 'Square', 'Pants',\n",
    "                street = '43 Fake Street',\n",
    "                apartment = '5-701',  \n",
    "                city = 'BOG',\n",
    "                country = 'COL',\n",
    "                zip = 'A523G')"
   ]
  }
 ],
 "metadata": {
  "kernelspec": {
   "display_name": "Python 3",
   "language": "python",
   "name": "python3"
  },
  "language_info": {
   "codemirror_mode": {
    "name": "ipython",
    "version": 3
   },
   "file_extension": ".py",
   "mimetype": "text/x-python",
   "name": "python",
   "nbconvert_exporter": "python",
   "pygments_lexer": "ipython3",
   "version": "3.10.6"
  },
  "orig_nbformat": 4
 },
 "nbformat": 4,
 "nbformat_minor": 2
}
