{
 "cells": [
  {
   "cell_type": "markdown",
   "id": "3eec1c1b",
   "metadata": {},
   "source": [
    "# Curso de Python: comprehensions, lambdas y manejo de errores"
   ]
  },
  {
   "cell_type": "markdown",
   "id": "5cb8111d",
   "metadata": {},
   "source": [
    "## Preparando el entorno de trabajo"
   ]
  },
  {
   "cell_type": "markdown",
   "id": "b1c1967f",
   "metadata": {},
   "source": [
    "\n",
    "Recordar que uno de los requisitos para este curso es tener algun conocimiento de *git y github*.\n",
    "\n",
    "Lo primero que hay que hacer es crear una carpeta *curso_comprehensio_lambdas*, crear el notebook que estas viendo, y crear un ambiente virtual, y activarlo\n",
    "\n",
    "        virtualenv venv\n",
    "        source venv/bin/activate\n",
    "\n",
    "Desactivemolo un momento mientras creamos un repositorio de *git*\n",
    "\n",
    "        deactivate\n",
    "        git init\n",
    "        git status\n",
    "\n",
    "Vamos a poner en practica una buena practica, que es ignorar el entorno virtual dentro del repositorio, esto se hace creando un archivo *.gitignore*. Este archivo sirve para no llevar cosas al repositorio remoto, cuando se vaya a compartir el proyecto. Esto se hace escribiendo dentro de dicho archivo el nombre de la carpeta y un slash:\n",
    "\n",
    "        venv/\n"
   ]
  },
  {
   "cell_type": "markdown",
   "id": "c1bbd054",
   "metadata": {},
   "source": [
    "## Listas y Diccionarios\n",
    "\n",
    "Las listas pueden almacenar diccionarios y viceversa. Ver **list_and_dict.py**"
   ]
  },
  {
   "cell_type": "markdown",
   "id": "0871ac74",
   "metadata": {},
   "source": [
    "## List Comprehensions"
   ]
  },
  {
   "cell_type": "code",
   "execution_count": null,
   "id": "a7a9b19e",
   "metadata": {},
   "outputs": [],
   "source": [
    "# Crear una lista de los cuadrados de los numeros del 1 al 100 siempre y cuando el numero NO sea divisible entre 3\n",
    "squares = [i**1 for i in range(100) if i%3 != 0 ]\n",
    "print(squares)"
   ]
  },
  {
   "cell_type": "code",
   "execution_count": null,
   "id": "49cc67ab",
   "metadata": {},
   "outputs": [],
   "source": [
    "# RETO: Crear una lista de todos los multiplos de 4 que a su vez sean multiplos de 6 y de 9, hasta 4 digitos\n",
    "reto  = [i for i in range(9999) if i%4 == 0 and i%6 == 0 and i%9 ==0]\n",
    "print(reto)"
   ]
  },
  {
   "cell_type": "markdown",
   "id": "4eb58e47",
   "metadata": {},
   "source": [
    "Tambien podemos aplicar el concepto de M.C.M ahorrando codigo"
   ]
  },
  {
   "cell_type": "code",
   "execution_count": null,
   "id": "d396fce8",
   "metadata": {},
   "outputs": [],
   "source": [
    "reto  = [i for i in range(9999) if i%36 == 0]\n",
    "print(reto)"
   ]
  },
  {
   "cell_type": "markdown",
   "id": "f180cd8f",
   "metadata": {},
   "source": [
    "## Dictionary Comprehensions"
   ]
  },
  {
   "cell_type": "markdown",
   "id": "b6e7a12d",
   "metadata": {},
   "source": [
    "Crear un dicccionario cuyas llaves sean los numero del 1 al 100, y los valores sean el cuadrado de dichos numeros, siempre y cuando no sean divisibles entre 3"
   ]
  },
  {
   "cell_type": "code",
   "execution_count": null,
   "id": "9ec5de0f",
   "metadata": {},
   "outputs": [],
   "source": [
    "my_dict = {i:i**2 for i in range(100) if i%3 != 0}\n",
    "print(my_dict)"
   ]
  },
  {
   "cell_type": "code",
   "execution_count": 21,
   "id": "613f8ae8",
   "metadata": {},
   "outputs": [
    {
     "name": "stdout",
     "output_type": "stream",
     "text": [
      "{0: 0.0, 2: 1.414, 4: 2.0, 6: 2.449, 8: 2.828, 10: 3.162, 12: 3.464, 14: 3.742, 16: 4.0, 18: 4.243, 20: 4.472, 22: 4.69, 24: 4.899, 26: 5.099, 28: 5.292, 30: 5.477, 32: 5.657, 34: 5.831, 36: 6.0, 38: 6.164, 40: 6.325, 42: 6.481, 44: 6.633, 46: 6.782, 48: 6.928, 50: 7.071, 52: 7.211, 54: 7.348, 56: 7.483, 58: 7.616, 60: 7.746, 62: 7.874, 64: 8.0, 66: 8.124, 68: 8.246, 70: 8.367, 72: 8.485, 74: 8.602, 76: 8.718, 78: 8.832, 80: 8.944, 82: 9.055, 84: 9.165, 86: 9.274, 88: 9.381, 90: 9.487, 92: 9.592, 94: 9.695, 96: 9.798, 98: 9.899}\n"
     ]
    }
   ],
   "source": [
    "# Reto: diccionario con los primero 100 numeros como llaves, y los valores sus raices cuadradas, siempre y cuando \n",
    "# el numero sea multiplo de 2\n",
    "\n",
    "from math import sqrt \n",
    "\n",
    "reto =  {i:round(sqrt(i),3)  for i in range(100) if i%2 == 0}\n",
    "print(reto)"
   ]
  },
  {
   "cell_type": "markdown",
   "id": "bcf2b29a",
   "metadata": {},
   "source": [
    "## Funciones anonimas o Lambda"
   ]
  },
  {
   "cell_type": "markdown",
   "id": "a32d7a47",
   "metadata": {},
   "source": [
    "Son funciones anonimas, no tiene identificador y tienen algunas caracteristicas propias\n",
    "\n",
    "**sintaxis**\n",
    "\n",
    "*lambda argumentos:expresion* \n",
    "\n",
    "Las funciones *lambdas* pueden tener los argumentos que necesitemos, pero solo una linea de codigo (en Pyhton). Observa no se usa *def*\n"
   ]
  },
  {
   "cell_type": "code",
   "execution_count": 28,
   "id": "468aa05a",
   "metadata": {},
   "outputs": [
    {
     "name": "stdout",
     "output_type": "stream",
     "text": [
      "True\n",
      "False\n"
     ]
    },
    {
     "data": {
      "text/plain": [
       "8"
      ]
     },
     "execution_count": 28,
     "metadata": {},
     "output_type": "execute_result"
    }
   ],
   "source": [
    "# Crear una funcion lambda para saber si una palabra es palindrome\n",
    "\n",
    "palindrome = lambda cadena: cadena == cadena[::-1]\n",
    "\n",
    "print(palindrome('oso'))\n",
    "print(palindrome('cuervo'))\n",
    "\n",
    "# Si queremos evaluar el resultado de una funcion lambda, lo podemos hacer de esta forma\n",
    "# esto es especialmente util en un entorno de prueba\n",
    "\n",
    "(lambda x:x**3)(2)"
   ]
  },
  {
   "cell_type": "code",
   "execution_count": 35,
   "id": "52db52fc",
   "metadata": {},
   "outputs": [
    {
     "data": {
      "text/plain": [
       "False"
      ]
     },
     "execution_count": 35,
     "metadata": {},
     "output_type": "execute_result"
    }
   ],
   "source": [
    "def multiplica(x):\n",
    "    return (lambda x: x%2 != 0)(x)\n",
    "   \n",
    "multiplica(6) "
   ]
  },
  {
   "cell_type": "code",
   "execution_count": 29,
   "id": "aa6add52",
   "metadata": {},
   "outputs": [
    {
     "name": "stdout",
     "output_type": "stream",
     "text": [
      "0\n"
     ]
    }
   ],
   "source": [
    "# Funciones de manera facil \n",
    "\n",
    "add_one = lambda x:x+1\n",
    "\n",
    "print(add_one(-1))\n"
   ]
  },
  {
   "cell_type": "markdown",
   "id": "b5956282",
   "metadata": {},
   "source": [
    "## High Order Functions(Filer, map, reduce)"
   ]
  },
  {
   "cell_type": "markdown",
   "id": "8039f3fe",
   "metadata": {},
   "source": [
    "Una funcion de orden superior es una funcion que recibe como parametro a otra. Filter, map y reduce son de este tipo y son muy importantes\n",
    "\n",
    "La primera que veremos es *filter*, donde de una lista se pide filtrar los numeros pares, lo cual lo podriamos ahacer en un primer momento con *list comprehensions*"
   ]
  },
  {
   "cell_type": "code",
   "execution_count": 48,
   "id": "93c24240",
   "metadata": {},
   "outputs": [
    {
     "name": "stdout",
     "output_type": "stream",
     "text": [
      "[1, 15, 21, 31]\n"
     ]
    }
   ],
   "source": [
    "my_list = [1, 4, 6, 15, 21, 26, 31, 42]\n",
    "odd = [my_list[i] for i in range(len(my_list)) if my_list[i]%2 != 0]\n",
    "print(odd)"
   ]
  },
  {
   "cell_type": "code",
   "execution_count": 49,
   "id": "59bd00f8",
   "metadata": {},
   "outputs": [
    {
     "name": "stdout",
     "output_type": "stream",
     "text": [
      "[1, 15, 21, 31]\n"
     ]
    }
   ],
   "source": [
    "# otra forma mas FACIL\n",
    "my_list = [1, 4, 6, 15, 21, 26, 31, 42]\n",
    "new_list = [i for i in my_list if i%2 != 0]\n",
    "print(new_list)"
   ]
  },
  {
   "cell_type": "markdown",
   "id": "3b1d115c",
   "metadata": {},
   "source": [
    "Ahora vamos a hacerlo con la *filter*"
   ]
  },
  {
   "cell_type": "code",
   "execution_count": 51,
   "id": "a4ab05c7",
   "metadata": {},
   "outputs": [
    {
     "name": "stdout",
     "output_type": "stream",
     "text": [
      "[1, 15, 21, 31]\n"
     ]
    }
   ],
   "source": [
    "my_list = [1, 4, 6, 15, 21, 26, 31, 42]\n",
    "\n",
    "new_list = list(filter(lambda x: x%2 != 0, my_list))\n",
    "print(new_list)"
   ]
  },
  {
   "cell_type": "markdown",
   "id": "e374ed9b",
   "metadata": {},
   "source": [
    "Continuamos con la funcion *map*. Supongamos que queremos de una lista, obtener una nueva que sea el cubo de todos los elementos. De igual forma como se hizo con la funcion de orden superior *map*, vamos a hacerlo primero con *list comprhensions*"
   ]
  },
  {
   "cell_type": "code",
   "execution_count": 59,
   "id": "71167048",
   "metadata": {},
   "outputs": [
    {
     "name": "stdout",
     "output_type": "stream",
     "text": [
      "[-1, -125, 512, 0, 1, 8, 729, -216]\n"
     ]
    }
   ],
   "source": [
    "my_list = [-1, -5, 8, 0, 1, 2, 9, -6]\n",
    "\n",
    "new_list = [i**3 for i in my_list ]\n",
    "print(new_list)"
   ]
  },
  {
   "cell_type": "code",
   "execution_count": null,
   "id": "7efbf5dd",
   "metadata": {},
   "outputs": [
    {
     "data": {
      "text/plain": [
       "[-1, -125, 512, 0, 1, 8, 729, -216]"
      ]
     },
     "metadata": {},
     "output_type": "display_data"
    }
   ],
   "source": [
    "my_list = [-1, -5, 8, 0, 1, 2, 9, -6]\n",
    "\n",
    "list(map(lambda x: x**3, my_list))"
   ]
  },
  {
   "cell_type": "markdown",
   "id": "2f1b7db1",
   "metadata": {},
   "source": [
    "Solo nos falta la funcion *reduce*, que la vamos a ver inmediatamente. Reduciremso la lista a un solo numero que contenga el producto de todos los numeros dentre de la misma "
   ]
  },
  {
   "cell_type": "code",
   "execution_count": 65,
   "id": "061e2d3e",
   "metadata": {},
   "outputs": [
    {
     "name": "stdout",
     "output_type": "stream",
     "text": [
      "144\n"
     ]
    }
   ],
   "source": [
    "from functools import reduce\n",
    "\n",
    "my_list = [3,3,2,2,2,2]\n",
    "all_multiplied = reduce(lambda x,y: x*y, my_list)\n",
    "print(all_multiplied)"
   ]
  },
  {
   "cell_type": "markdown",
   "id": "11d967b2",
   "metadata": {},
   "source": [
    "Aplicaremso el mismos concepto para reducir una lista sumando todos los elementos"
   ]
  },
  {
   "cell_type": "code",
   "execution_count": 64,
   "id": "5c908c69",
   "metadata": {},
   "outputs": [
    {
     "name": "stdout",
     "output_type": "stream",
     "text": [
      "14\n"
     ]
    }
   ],
   "source": [
    "my_list = [3,3,2,2,2,2]\n",
    "all_added = reduce(lambda x,y: x+y, my_list)\n",
    "print(all_added)"
   ]
  },
  {
   "cell_type": "markdown",
   "id": "3f4c1a28",
   "metadata": {},
   "source": [
    "# RETO\n",
    "\n",
    "Ahora vamos a poner en practica lo aprendido, crearemos un nuevo archivo llamda **filtrando_datos.py**, donde DATA es una lista de diccionarios, que contine datos de diferentes trabajadores.\n",
    "\n",
    "El reto consiste en obtener de dicho diccionario, los siguientes datos:\n",
    "- Todos los desarrolladores de Python "
   ]
  },
  {
   "cell_type": "markdown",
   "id": "d10c8dfa",
   "metadata": {},
   "source": [
    "DATA es de tipo lista, y manera de prueba obtengo una muestra, que es un dato de tipo diccionario "
   ]
  },
  {
   "cell_type": "code",
   "execution_count": 1,
   "id": "0c4df671",
   "metadata": {},
   "outputs": [
    {
     "name": "stdout",
     "output_type": "stream",
     "text": [
      "<class 'dict'>\n"
     ]
    }
   ],
   "source": [
    "from data_workers import DATA\n",
    "\n",
    "my_dyct = DATA[5]\n",
    "print(type(my_dyct))"
   ]
  },
  {
   "cell_type": "markdown",
   "id": "8df2b151",
   "metadata": {},
   "source": [
    "A manera de prueba, creo una funcion lambda que devuelve verdadero si y solo si el 'language' del trabajador es 'python'"
   ]
  },
  {
   "cell_type": "code",
   "execution_count": 2,
   "id": "aae78639",
   "metadata": {},
   "outputs": [
    {
     "name": "stdout",
     "output_type": "stream",
     "text": [
      "True\n"
     ]
    }
   ],
   "source": [
    "is_python_dev = lambda worker : worker['language'] == 'python'\n",
    "print(is_python_dev(my_dyct))"
   ]
  },
  {
   "cell_type": "markdown",
   "id": "daa601c8",
   "metadata": {},
   "source": [
    "La prueba fue exitosa, y ahora vamos a tratar de implementarla con **filter** "
   ]
  },
  {
   "cell_type": "code",
   "execution_count": 3,
   "id": "ae01b3e4",
   "metadata": {},
   "outputs": [
    {
     "name": "stdout",
     "output_type": "stream",
     "text": [
      "4\n",
      "Facundo\n",
      "Karo\n",
      "Pablo\n",
      "Lorena\n"
     ]
    }
   ],
   "source": [
    "python_dev_list = list(filter(lambda worker : worker['language'] == 'python', DATA))\n",
    "print(len(python_dev_list))\n",
    "\n",
    "for item in python_dev_list:\n",
    "    print(item['name'])"
   ]
  },
  {
   "cell_type": "markdown",
   "id": "8febf0da",
   "metadata": {},
   "source": [
    "Pero hay un problema, solo necesitamos obtener solo el nombre, podemos simplificar aun mas nuestra implementacion, usando una combinancion entre **filter y map**. Hemos reutilizado la variable python_dev_list"
   ]
  },
  {
   "cell_type": "code",
   "execution_count": 4,
   "id": "c94270f5",
   "metadata": {},
   "outputs": [
    {
     "name": "stdout",
     "output_type": "stream",
     "text": [
      "['Facundo', 'Karo', 'Pablo', 'Lorena']\n"
     ]
    }
   ],
   "source": [
    "python_dev_list = list(filter(lambda worker : worker['language'] == 'python', DATA))\n",
    "python_dev_list = list(map(lambda worker: worker['name'], python_dev_list))\n",
    "print(python_dev_list)"
   ]
  },
  {
   "cell_type": "markdown",
   "id": "067866f5",
   "metadata": {},
   "source": [
    "Obtener todos los trabajadores de Platzi,primero evaluamos una funcion lambda que retorne TRUE si el trabajador es de Platzi"
   ]
  },
  {
   "cell_type": "code",
   "execution_count": 9,
   "id": "c8fef722",
   "metadata": {},
   "outputs": [
    {
     "name": "stdout",
     "output_type": "stream",
     "text": [
      "True\n"
     ]
    }
   ],
   "source": [
    "from data_workers import DATA\n",
    "\n",
    "my_worker = DATA[2]\n",
    "is_platzi_worker = lambda worker: worker['organization'] == 'Platzi'\n",
    "\n",
    "print(is_platzi_worker(my_worker))\n"
   ]
  },
  {
   "cell_type": "markdown",
   "id": "a0e5a725",
   "metadata": {},
   "source": [
    "Ahora si lo implementamos, basados en la prueba anterior fue exitosa, con las funciones de orden superior filter and map"
   ]
  },
  {
   "cell_type": "code",
   "execution_count": 14,
   "id": "c607203b",
   "metadata": {},
   "outputs": [
    {
     "name": "stdout",
     "output_type": "stream",
     "text": [
      "<class 'list'>\n",
      "['Facundo', 'Héctor', 'Gabriel', 'Isabella']\n"
     ]
    }
   ],
   "source": [
    "work_for_platzi = list(filter(lambda worker: worker['organization'] == 'Platzi', DATA))\n",
    "work_for_platzi = list(map(lambda worker: worker['name'], work_for_platzi))\n",
    "\n",
    "print(type(work_for_platzi))\n",
    "print(work_for_platzi)\n"
   ]
  },
  {
   "cell_type": "markdown",
   "id": "a61186b0",
   "metadata": {},
   "source": [
    "Ahora generar una lista con todos los que tienen mas de 18 años. "
   ]
  },
  {
   "cell_type": "code",
   "execution_count": 18,
   "id": "c3e94613",
   "metadata": {},
   "outputs": [
    {
     "data": {
      "text/plain": [
       "False"
      ]
     },
     "execution_count": 18,
     "metadata": {},
     "output_type": "execute_result"
    }
   ],
   "source": [
    "my_worker = DATA[7]\n",
    "is_adult = lambda worker: worker['age'] >= 18\n",
    "\n",
    "is_adult(my_worker)"
   ]
  },
  {
   "cell_type": "code",
   "execution_count": 27,
   "id": "ded90a40",
   "metadata": {},
   "outputs": [
    {
     "name": "stdout",
     "output_type": "stream",
     "text": [
      "['Facundo', 'Luisana', 'Héctor', 'Gabriel', 'Isabella', 'Karo', 'Ariel', 'Pablo', 'Lorena']\n"
     ]
    }
   ],
   "source": [
    "worker_is_adult = list(filter(lambda worker: worker['age'] > 18, DATA))\n",
    "worker_is_adult = list(map(lambda worker: worker['name'], worker_is_adult))\n",
    "len(worker_is_adult)\n",
    "type(worker_is_adult)\n",
    "print(worker_is_adult)"
   ]
  },
  {
   "cell_type": "markdown",
   "id": "cb0751ea",
   "metadata": {},
   "source": [
    "Ahora, vamos a crear una nueva lista, donde cada diccionario tenga una llave adicioanal. Dicha llave contendra un valor booleano, indicando si la persona es mayor de 70 años. El caracter |, se llama *pipe*. Y esta funcionalidad. old_people es una nueva lista. \n",
    "\n",
    "Este feature | es exclusivo de 3.9 "
   ]
  },
  {
   "cell_type": "code",
   "execution_count": 30,
   "id": "60dcb6c7",
   "metadata": {},
   "outputs": [
    {
     "name": "stdout",
     "output_type": "stream",
     "text": [
      "<class 'list'>\n",
      "Facundo True\n",
      "Luisana False\n",
      "Héctor False\n",
      "Gabriel False\n",
      "Isabella False\n",
      "Karo False\n",
      "Ariel False\n",
      "Juan False\n",
      "Pablo False\n",
      "Lorena False\n"
     ]
    }
   ],
   "source": [
    "old_people = list(map(lambda worker:worker | {'old': worker['age'] > 70}, DATA))\n",
    "print(type(old_people))\n",
    "\n",
    "for worker in old_people:\n",
    "    print(worker['name'], worker['old'])"
   ]
  },
  {
   "cell_type": "code",
   "execution_count": 41,
   "id": "74166e81",
   "metadata": {},
   "outputs": [
    {
     "name": "stdout",
     "output_type": "stream",
     "text": [
      "['o', 'n', 'i', 'o', 'n']\n",
      "0\n",
      "1\n",
      "2\n"
     ]
    }
   ],
   "source": [
    "groceries=['onion', 'carrot', 'banana']\n",
    "onion = 'onion'\n",
    "onion_ = list(onion)\n",
    "onion_\n",
    "\n",
    "\n",
    "\n",
    "aux  = [i for i in onion]\n",
    "print(aux)    \n",
    "\n",
    "list(enumerate(groceries))\n",
    "\n",
    "for index, i in enumerate(groceries):\n",
    "    print(index)"
   ]
  },
  {
   "cell_type": "markdown",
   "id": "fc3e2698",
   "metadata": {},
   "source": [
    "Ahora veremos una forma de hacerlo con la filter"
   ]
  }
 ],
 "metadata": {
  "kernelspec": {
   "display_name": "Python 3 (ipykernel)",
   "language": "python",
   "name": "python3"
  },
  "language_info": {
   "codemirror_mode": {
    "name": "ipython",
    "version": 3
   },
   "file_extension": ".py",
   "mimetype": "text/x-python",
   "name": "python",
   "nbconvert_exporter": "python",
   "pygments_lexer": "ipython3",
   "version": "3.9.7"
  }
 },
 "nbformat": 4,
 "nbformat_minor": 5
}
